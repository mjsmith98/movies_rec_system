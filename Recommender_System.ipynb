{
 "cells": [
  {
   "cell_type": "markdown",
   "metadata": {},
   "source": [
    "# Recommender System\n"
   ]
  },
  {
   "cell_type": "code",
   "execution_count": 143,
   "metadata": {},
   "outputs": [],
   "source": [
    "import pandas as pd\n",
    "import matplotlib\n",
    "import matplotlib.pyplot as plt\n",
    "%matplotlib inline\n",
    "import numpy as np\n",
    "import matplotlib\n",
    "import re\n",
    "import itertools\n",
    "import plotly.graph_objs as go\n",
    "import seaborn as sns  \n",
    "import papermill as pm"
   ]
  },
  {
   "cell_type": "code",
   "execution_count": 101,
   "metadata": {},
   "outputs": [
    {
     "name": "stderr",
     "output_type": "stream",
     "text": [
      "C:\\ProgramData\\Anaconda3\\lib\\site-packages\\ipykernel_launcher.py:3: UserWarning:\n",
      "\n",
      "This pattern has match groups. To actually get the groups, use str.extract.\n",
      "\n"
     ]
    }
   ],
   "source": [
    "movieData = pd.read_csv('movies_metadata.csv', low_memory=False)\n",
    "patternDel = \"([12]\\d{3}-(0[1-9]|1[0-2])-(0[1-9]|[12]\\d|3[01]))\"\n",
    "filter = movieData['id'].str.contains(patternDel)\n",
    "movieData = movieData[~filter]"
   ]
  },
  {
   "cell_type": "code",
   "execution_count": 102,
   "metadata": {},
   "outputs": [],
   "source": [
    "movieData.overview = movieData.overview.apply(str)\n",
    "movieData.spoken_languages = movieData.spoken_languages.apply(str)"
   ]
  },
  {
   "cell_type": "code",
   "execution_count": 103,
   "metadata": {},
   "outputs": [
    {
     "data": {
      "text/html": [
       "<div>\n",
       "<style scoped>\n",
       "    .dataframe tbody tr th:only-of-type {\n",
       "        vertical-align: middle;\n",
       "    }\n",
       "\n",
       "    .dataframe tbody tr th {\n",
       "        vertical-align: top;\n",
       "    }\n",
       "\n",
       "    .dataframe thead th {\n",
       "        text-align: right;\n",
       "    }\n",
       "</style>\n",
       "<table border=\"1\" class=\"dataframe\">\n",
       "  <thead>\n",
       "    <tr style=\"text-align: right;\">\n",
       "      <th></th>\n",
       "      <th>adult</th>\n",
       "      <th>belongs_to_collection</th>\n",
       "      <th>budget</th>\n",
       "      <th>genres</th>\n",
       "      <th>homepage</th>\n",
       "      <th>movie_id</th>\n",
       "      <th>imdb_id</th>\n",
       "      <th>original_language</th>\n",
       "      <th>original_title</th>\n",
       "      <th>overview</th>\n",
       "      <th>...</th>\n",
       "      <th>release_date</th>\n",
       "      <th>revenue</th>\n",
       "      <th>runtime</th>\n",
       "      <th>spoken_languages</th>\n",
       "      <th>status</th>\n",
       "      <th>tagline</th>\n",
       "      <th>title</th>\n",
       "      <th>video</th>\n",
       "      <th>vote_average</th>\n",
       "      <th>vote_count</th>\n",
       "    </tr>\n",
       "  </thead>\n",
       "  <tbody>\n",
       "    <tr>\n",
       "      <th>20616</th>\n",
       "      <td>False</td>\n",
       "      <td>NaN</td>\n",
       "      <td>1970000</td>\n",
       "      <td>[{'id': 35, 'name': 'Comedy'}, {'id': 18, 'nam...</td>\n",
       "      <td>http://periferiaproductions.com/</td>\n",
       "      <td>123964</td>\n",
       "      <td>tt1804607</td>\n",
       "      <td>fi</td>\n",
       "      <td>Miss Farkku-Suomi</td>\n",
       "      <td>Year 1977. Punk and new wave rock´n roll has a...</td>\n",
       "      <td>...</td>\n",
       "      <td>2012-08-03</td>\n",
       "      <td>0.0</td>\n",
       "      <td>86.0</td>\n",
       "      <td>[{'iso_639_1': 'fi', 'name': 'suomi'}]</td>\n",
       "      <td>Released</td>\n",
       "      <td>Based on a novel by Kauko Röyhkä</td>\n",
       "      <td>Miss Blue Jeans</td>\n",
       "      <td>False</td>\n",
       "      <td>5.9</td>\n",
       "      <td>6.0</td>\n",
       "    </tr>\n",
       "    <tr>\n",
       "      <th>41131</th>\n",
       "      <td>False</td>\n",
       "      <td>NaN</td>\n",
       "      <td>0</td>\n",
       "      <td>[{'id': 35, 'name': 'Comedy'}]</td>\n",
       "      <td>NaN</td>\n",
       "      <td>370382</td>\n",
       "      <td>tt0184726</td>\n",
       "      <td>en</td>\n",
       "      <td>Το μεγάλο κανόνι</td>\n",
       "      <td>A masseur whose son  is a student in Germany l...</td>\n",
       "      <td>...</td>\n",
       "      <td>1981-12-14</td>\n",
       "      <td>0.0</td>\n",
       "      <td>84.0</td>\n",
       "      <td>[{'iso_639_1': 'el', 'name': 'ελληνικά'}]</td>\n",
       "      <td>Released</td>\n",
       "      <td>NaN</td>\n",
       "      <td>The Big Gun</td>\n",
       "      <td>False</td>\n",
       "      <td>5.0</td>\n",
       "      <td>1.0</td>\n",
       "    </tr>\n",
       "    <tr>\n",
       "      <th>20306</th>\n",
       "      <td>False</td>\n",
       "      <td>NaN</td>\n",
       "      <td>25500000</td>\n",
       "      <td>[{'id': 18, 'name': 'Drama'}, {'id': 28, 'name...</td>\n",
       "      <td>http://myway-movie.com/</td>\n",
       "      <td>94047</td>\n",
       "      <td>tt1606384</td>\n",
       "      <td>ko</td>\n",
       "      <td>마이웨이</td>\n",
       "      <td>Inspired by a true story. Jun Shik works for T...</td>\n",
       "      <td>...</td>\n",
       "      <td>2011-12-21</td>\n",
       "      <td>0.0</td>\n",
       "      <td>137.0</td>\n",
       "      <td>[{'iso_639_1': 'ko', 'name': '한국어/조선말'}, {'iso...</td>\n",
       "      <td>Released</td>\n",
       "      <td>They met as enemies, but fate brought them tog...</td>\n",
       "      <td>My Way</td>\n",
       "      <td>False</td>\n",
       "      <td>7.6</td>\n",
       "      <td>75.0</td>\n",
       "    </tr>\n",
       "    <tr>\n",
       "      <th>45037</th>\n",
       "      <td>False</td>\n",
       "      <td>NaN</td>\n",
       "      <td>0</td>\n",
       "      <td>[{'id': 36, 'name': 'History'}, {'id': 35, 'na...</td>\n",
       "      <td>NaN</td>\n",
       "      <td>77519</td>\n",
       "      <td>tt0214878</td>\n",
       "      <td>fr</td>\n",
       "      <td>Le libertin</td>\n",
       "      <td>French philosopher Denis Diderot produces the ...</td>\n",
       "      <td>...</td>\n",
       "      <td>2000-03-15</td>\n",
       "      <td>0.0</td>\n",
       "      <td>100.0</td>\n",
       "      <td>[{'iso_639_1': 'de', 'name': 'Deutsch'}, {'iso...</td>\n",
       "      <td>Released</td>\n",
       "      <td>NaN</td>\n",
       "      <td>The Libertine</td>\n",
       "      <td>False</td>\n",
       "      <td>6.4</td>\n",
       "      <td>4.0</td>\n",
       "    </tr>\n",
       "    <tr>\n",
       "      <th>22865</th>\n",
       "      <td>False</td>\n",
       "      <td>NaN</td>\n",
       "      <td>0</td>\n",
       "      <td>[{'id': 18, 'name': 'Drama'}, {'id': 10749, 'n...</td>\n",
       "      <td>http://highwaythefilm.com/</td>\n",
       "      <td>252841</td>\n",
       "      <td>tt2980794</td>\n",
       "      <td>hi</td>\n",
       "      <td>Highway</td>\n",
       "      <td>Right before her wedding, a young woman finds ...</td>\n",
       "      <td>...</td>\n",
       "      <td>2014-02-20</td>\n",
       "      <td>0.0</td>\n",
       "      <td>133.0</td>\n",
       "      <td>[{'iso_639_1': 'hi', 'name': 'हिन्दी'}, {'iso_...</td>\n",
       "      <td>Released</td>\n",
       "      <td>NaN</td>\n",
       "      <td>Highway</td>\n",
       "      <td>False</td>\n",
       "      <td>7.0</td>\n",
       "      <td>43.0</td>\n",
       "    </tr>\n",
       "  </tbody>\n",
       "</table>\n",
       "<p>5 rows × 24 columns</p>\n",
       "</div>"
      ],
      "text/plain": [
       "       adult belongs_to_collection    budget  \\\n",
       "20616  False                   NaN   1970000   \n",
       "41131  False                   NaN         0   \n",
       "20306  False                   NaN  25500000   \n",
       "45037  False                   NaN         0   \n",
       "22865  False                   NaN         0   \n",
       "\n",
       "                                                  genres  \\\n",
       "20616  [{'id': 35, 'name': 'Comedy'}, {'id': 18, 'nam...   \n",
       "41131                     [{'id': 35, 'name': 'Comedy'}]   \n",
       "20306  [{'id': 18, 'name': 'Drama'}, {'id': 28, 'name...   \n",
       "45037  [{'id': 36, 'name': 'History'}, {'id': 35, 'na...   \n",
       "22865  [{'id': 18, 'name': 'Drama'}, {'id': 10749, 'n...   \n",
       "\n",
       "                               homepage  movie_id    imdb_id  \\\n",
       "20616  http://periferiaproductions.com/    123964  tt1804607   \n",
       "41131                               NaN    370382  tt0184726   \n",
       "20306           http://myway-movie.com/     94047  tt1606384   \n",
       "45037                               NaN     77519  tt0214878   \n",
       "22865        http://highwaythefilm.com/    252841  tt2980794   \n",
       "\n",
       "      original_language     original_title  \\\n",
       "20616                fi  Miss Farkku-Suomi   \n",
       "41131                en   Το μεγάλο κανόνι   \n",
       "20306                ko               마이웨이   \n",
       "45037                fr        Le libertin   \n",
       "22865                hi            Highway   \n",
       "\n",
       "                                                overview    ...      \\\n",
       "20616  Year 1977. Punk and new wave rock´n roll has a...    ...       \n",
       "41131  A masseur whose son  is a student in Germany l...    ...       \n",
       "20306  Inspired by a true story. Jun Shik works for T...    ...       \n",
       "45037  French philosopher Denis Diderot produces the ...    ...       \n",
       "22865  Right before her wedding, a young woman finds ...    ...       \n",
       "\n",
       "       release_date revenue runtime  \\\n",
       "20616    2012-08-03     0.0    86.0   \n",
       "41131    1981-12-14     0.0    84.0   \n",
       "20306    2011-12-21     0.0   137.0   \n",
       "45037    2000-03-15     0.0   100.0   \n",
       "22865    2014-02-20     0.0   133.0   \n",
       "\n",
       "                                        spoken_languages    status  \\\n",
       "20616             [{'iso_639_1': 'fi', 'name': 'suomi'}]  Released   \n",
       "41131          [{'iso_639_1': 'el', 'name': 'ελληνικά'}]  Released   \n",
       "20306  [{'iso_639_1': 'ko', 'name': '한국어/조선말'}, {'iso...  Released   \n",
       "45037  [{'iso_639_1': 'de', 'name': 'Deutsch'}, {'iso...  Released   \n",
       "22865  [{'iso_639_1': 'hi', 'name': 'हिन्दी'}, {'iso_...  Released   \n",
       "\n",
       "                                                 tagline            title  \\\n",
       "20616                   Based on a novel by Kauko Röyhkä  Miss Blue Jeans   \n",
       "41131                                                NaN      The Big Gun   \n",
       "20306  They met as enemies, but fate brought them tog...           My Way   \n",
       "45037                                                NaN    The Libertine   \n",
       "22865                                                NaN          Highway   \n",
       "\n",
       "       video vote_average vote_count  \n",
       "20616  False          5.9        6.0  \n",
       "41131  False          5.0        1.0  \n",
       "20306  False          7.6       75.0  \n",
       "45037  False          6.4        4.0  \n",
       "22865  False          7.0       43.0  \n",
       "\n",
       "[5 rows x 24 columns]"
      ]
     },
     "execution_count": 103,
     "metadata": {},
     "output_type": "execute_result"
    }
   ],
   "source": [
    "#converting types and renaming columns\n",
    "movieData[[\"id\"]] = movieData[[\"id\"]].apply(pd.to_numeric)\n",
    "movieData[[\"popularity\"]] = movieData[[\"popularity\"]].apply(pd.to_numeric)\n",
    "movieData[[\"budget\"]] = movieData[[\"budget\"]].apply(pd.to_numeric)\n",
    "movieData = movieData.rename(columns={'id': 'movie_id'})\n",
    "movieData.dtypes\n",
    "movieData.sample(5)"
   ]
  },
  {
   "cell_type": "code",
   "execution_count": 104,
   "metadata": {},
   "outputs": [],
   "source": [
    "#removing nan rows in the revenue column\n",
    "movieData = movieData[np.isfinite(movieData['revenue'])]"
   ]
  },
  {
   "cell_type": "code",
   "execution_count": 105,
   "metadata": {},
   "outputs": [],
   "source": [
    "#funtion to unpack the json strings\n",
    "def unpack_movieData(genres, movie_id, title, vote_average, vote_count):\n",
    "    elements = [element for element in eval(genres)]\n",
    "    \n",
    "    for element in elements:\n",
    "        element['movie_id'] = movie_id\n",
    "        element['vote_average'] = vote_average\n",
    "        element['vote_count'] = vote_count\n",
    "        element['title'] = title\n",
    "        \n",
    "        \n",
    "       \n",
    "    \n",
    "    return elements\n",
    "\n",
    "movies_with_genres = movieData.apply(lambda row: unpack_movieData(row['genres'],row['movie_id'],row['title'],row['vote_average'],row['vote_count']), axis=1)"
   ]
  },
  {
   "cell_type": "code",
   "execution_count": 7,
   "metadata": {},
   "outputs": [
    {
     "data": {
      "text/plain": [
       "(91085, 6)"
      ]
     },
     "execution_count": 7,
     "metadata": {},
     "output_type": "execute_result"
    }
   ],
   "source": [
    "movies_with_genres_list = itertools.chain.from_iterable(movies_with_genres.values)\n",
    "movies_with_genres_df = pd.DataFrame(list(movies_with_genres_list))\n",
    "movies_with_genres_df.shape"
   ]
  },
  {
   "cell_type": "code",
   "execution_count": 106,
   "metadata": {},
   "outputs": [],
   "source": [
    "movies_with_genres_df = movies_with_genres_df.rename(columns={'name': 'genre'})"
   ]
  },
  {
   "cell_type": "code",
   "execution_count": 107,
   "metadata": {},
   "outputs": [
    {
     "data": {
      "text/plain": [
       "id                int64\n",
       "movie_id          int64\n",
       "genre            object\n",
       "title            object\n",
       "vote_average    float64\n",
       "vote_count      float64\n",
       "dtype: object"
      ]
     },
     "execution_count": 107,
     "metadata": {},
     "output_type": "execute_result"
    }
   ],
   "source": [
    "movies_with_genres_df.dtypes"
   ]
  },
  {
   "cell_type": "code",
   "execution_count": 108,
   "metadata": {},
   "outputs": [
    {
     "data": {
      "text/plain": [
       "(26024289, 4)"
      ]
     },
     "execution_count": 108,
     "metadata": {},
     "output_type": "execute_result"
    }
   ],
   "source": [
    "ratingData = pd.read_csv('ratings.csv')\n",
    "ratingData.shape"
   ]
  },
  {
   "cell_type": "code",
   "execution_count": 109,
   "metadata": {},
   "outputs": [],
   "source": [
    "ratingData = ratingData.rename(columns={'movieId': 'movie_id'})\n",
    "movie_name_and_rating = pd.merge(ratingData, movies_with_genres_df, on='movie_id')  "
   ]
  },
  {
   "cell_type": "code",
   "execution_count": 110,
   "metadata": {},
   "outputs": [
    {
     "data": {
      "text/plain": [
       "(27741678, 9)"
      ]
     },
     "execution_count": 110,
     "metadata": {},
     "output_type": "execute_result"
    }
   ],
   "source": [
    "movie_name_and_rating.shape"
   ]
  },
  {
   "cell_type": "code",
   "execution_count": 111,
   "metadata": {},
   "outputs": [
    {
     "data": {
      "text/plain": [
       "(8742389, 9)"
      ]
     },
     "execution_count": 111,
     "metadata": {},
     "output_type": "execute_result"
    }
   ],
   "source": [
    "#looking at the movies with more than or equal to 500 votes\n",
    "movie_name_and_rating = movie_name_and_rating.loc[movie_name_and_rating[\"vote_count\"] >= 500]\n",
    "movie_name_and_rating.shape"
   ]
  },
  {
   "cell_type": "code",
   "execution_count": 116,
   "metadata": {},
   "outputs": [],
   "source": [
    "flag = False\n",
    "\n",
    "if(flag==True):\n",
    "              movie_name_and_rating.to_csv('movie_name_rating.csv', sep=',', encoding='utf-8', index=False)\n"
   ]
  },
  {
   "cell_type": "code",
   "execution_count": 117,
   "metadata": {},
   "outputs": [],
   "source": [
    "movie_name_and_rating = pd.read_csv('movie_name_rating.csv')"
   ]
  },
  {
   "cell_type": "code",
   "execution_count": 118,
   "metadata": {},
   "outputs": [
    {
     "data": {
      "text/html": [
       "<div>\n",
       "<style scoped>\n",
       "    .dataframe tbody tr th:only-of-type {\n",
       "        vertical-align: middle;\n",
       "    }\n",
       "\n",
       "    .dataframe tbody tr th {\n",
       "        vertical-align: top;\n",
       "    }\n",
       "\n",
       "    .dataframe thead th {\n",
       "        text-align: right;\n",
       "    }\n",
       "</style>\n",
       "<table border=\"1\" class=\"dataframe\">\n",
       "  <thead>\n",
       "    <tr style=\"text-align: right;\">\n",
       "      <th></th>\n",
       "      <th>userId</th>\n",
       "      <th>movie_id</th>\n",
       "      <th>rating</th>\n",
       "      <th>timestamp</th>\n",
       "      <th>id</th>\n",
       "      <th>genre</th>\n",
       "      <th>title</th>\n",
       "      <th>vote_average</th>\n",
       "      <th>vote_count</th>\n",
       "    </tr>\n",
       "  </thead>\n",
       "  <tbody>\n",
       "    <tr>\n",
       "      <th>0</th>\n",
       "      <td>1</td>\n",
       "      <td>858</td>\n",
       "      <td>5.0</td>\n",
       "      <td>1425941523</td>\n",
       "      <td>35</td>\n",
       "      <td>Comedy</td>\n",
       "      <td>Sleepless in Seattle</td>\n",
       "      <td>6.5</td>\n",
       "      <td>630.0</td>\n",
       "    </tr>\n",
       "  </tbody>\n",
       "</table>\n",
       "</div>"
      ],
      "text/plain": [
       "   userId  movie_id  rating   timestamp  id   genre                 title  \\\n",
       "0       1       858     5.0  1425941523  35  Comedy  Sleepless in Seattle   \n",
       "\n",
       "   vote_average  vote_count  \n",
       "0           6.5       630.0  "
      ]
     },
     "execution_count": 118,
     "metadata": {},
     "output_type": "execute_result"
    }
   ],
   "source": [
    "movie_name_and_rating.head(1)"
   ]
  },
  {
   "cell_type": "code",
   "execution_count": 119,
   "metadata": {},
   "outputs": [],
   "source": [
    "movie_name_and_rating = movie_name_and_rating.drop(['id'], axis=1)"
   ]
  },
  {
   "cell_type": "code",
   "execution_count": 120,
   "metadata": {},
   "outputs": [
    {
     "data": {
      "text/plain": [
       "title\n",
       "Sleepless in Seattle                  4.339811\n",
       "The Talented Mr. Ripley               4.178289\n",
       "Galaxy Quest                          4.174583\n",
       "Terminator 3: Rise of the Machines    4.169975\n",
       "Hannibal Rising                       4.157242\n",
       "Name: rating, dtype: float64"
      ]
     },
     "execution_count": 120,
     "metadata": {},
     "output_type": "execute_result"
    }
   ],
   "source": [
    "#grouping by title and getting the average rating\n",
    "movie_name_and_rating.groupby('title')['rating'].mean().sort_values(ascending=False).head()  "
   ]
  },
  {
   "cell_type": "code",
   "execution_count": 121,
   "metadata": {},
   "outputs": [
    {
     "data": {
      "text/plain": [
       "title\n",
       "Terminator 3: Rise of the Machines    263703\n",
       "Men in Black II                       209896\n",
       "Sleepless in Seattle                  171210\n",
       "Rope                                  168772\n",
       "Back to the Future Part II            161744\n",
       "Name: rating, dtype: int64"
      ]
     },
     "execution_count": 121,
     "metadata": {},
     "output_type": "execute_result"
    }
   ],
   "source": [
    "#grouping by title and getting the count of ratings for that movie\n",
    "movie_name_and_rating.groupby('title')['rating'].count().sort_values(ascending=False).head()  "
   ]
  },
  {
   "cell_type": "code",
   "execution_count": 122,
   "metadata": {},
   "outputs": [],
   "source": [
    "ratings_with_mean_count = pd.DataFrame(movie_name_and_rating.groupby('title')['rating'].mean())  "
   ]
  },
  {
   "cell_type": "code",
   "execution_count": 123,
   "metadata": {},
   "outputs": [],
   "source": [
    "ratings_with_mean_count['vote_count'] = pd.DataFrame(movie_name_and_rating.groupby('title')['rating'].count())  "
   ]
  },
  {
   "cell_type": "markdown",
   "metadata": {},
   "source": [
    "### Design consideration\n",
    "Looking at all the movies with greater than 500 vote counts"
   ]
  },
  {
   "cell_type": "code",
   "execution_count": 124,
   "metadata": {},
   "outputs": [
    {
     "data": {
      "text/plain": [
       "title\n",
       "Airplane!                                       503\n",
       "Fear and Loathing in Las Vegas                  504\n",
       "Ocean's Thirteen                                506\n",
       "Pretty Woman                                    508\n",
       "The Bourne Ultimatum                            512\n",
       "Spaceballs                                      514\n",
       "Liar Liar                                       523\n",
       "Bruce Almighty                                  530\n",
       "1408                                            538\n",
       "Crash                                           542\n",
       "Predator                                        556\n",
       "Layer Cake                                      564\n",
       "Poseidon                                        576\n",
       "Four Weddings and a Funeral                     576\n",
       "Corpse Bride                                    580\n",
       "The Lost Boys                                   588\n",
       "Changeling                                      591\n",
       "Green Street Hooligans                          592\n",
       "Hard Candy                                      594\n",
       "Shanghai Noon                                   600\n",
       "A History of Violence                           609\n",
       "The Evil Dead                                   613\n",
       "From Dusk Till Dawn                             628\n",
       "Full Metal Jacket                               630\n",
       "Star Wars: Episode I - The Phantom Menace       633\n",
       "R.I.P.D.                                        636\n",
       "Moonraker                                       640\n",
       "It's a Wonderful Life                           642\n",
       "Addams Family Values                            654\n",
       "Chicago                                         655\n",
       "                                              ...  \n",
       "The Day After Tomorrow                        61156\n",
       "Run Lola Run                                  64500\n",
       "Mrs. Doubtfire                                65742\n",
       "Love Actually                                 65883\n",
       "2001: A Space Odyssey                         69384\n",
       "Rambo III                                     70996\n",
       "Cars                                          71668\n",
       "The Bourne Supremacy                          74034\n",
       "Reservoir Dogs                                75146\n",
       "Donnie Darko                                  77214\n",
       "To Kill a Mockingbird                         82566\n",
       "Batman Returns                                90606\n",
       "Live and Let Die                              91725\n",
       "Psycho                                        93402\n",
       "Big Fish                                      94815\n",
       "Aliens vs Predator: Requiem                  100170\n",
       "Silent Hill                                  100750\n",
       "The Talented Mr. Ripley                      101961\n",
       "Armageddon                                   102416\n",
       "Point Break                                  105393\n",
       "Dawn of the Dead                             110833\n",
       "Titanic                                      112215\n",
       "Bridge to Terabithia                         116016\n",
       "Scarface                                     125564\n",
       "Bad Boys II                                  145050\n",
       "Back to the Future Part II                   161744\n",
       "Rope                                         168772\n",
       "Sleepless in Seattle                         171210\n",
       "Men in Black II                              209896\n",
       "Terminator 3: Rise of the Machines           263703\n",
       "Name: vote_count, Length: 537, dtype: int64"
      ]
     },
     "execution_count": 124,
     "metadata": {},
     "output_type": "execute_result"
    }
   ],
   "source": [
    "ratings_with_mean_count = ratings_with_mean_count[ratings_with_mean_count['vote_count']>500]\n",
    "ratings_with_mean_count.vote_count.sort_values(ascending=True)"
   ]
  },
  {
   "cell_type": "code",
   "execution_count": 125,
   "metadata": {},
   "outputs": [
    {
     "data": {
      "text/plain": [
       "(537, 2)"
      ]
     },
     "execution_count": 125,
     "metadata": {},
     "output_type": "execute_result"
    }
   ],
   "source": [
    "ratings_with_mean_count.shape"
   ]
  },
  {
   "cell_type": "markdown",
   "metadata": {},
   "source": [
    "In the graph below we see that there is a larger amount of movies with a smaller amount of votes while there are a smaller amount of movies with a higher amount of votes."
   ]
  },
  {
   "cell_type": "code",
   "execution_count": 148,
   "metadata": {},
   "outputs": [
    {
     "name": "stderr",
     "output_type": "stream",
     "text": [
      "C:\\ProgramData\\Anaconda3\\lib\\site-packages\\ipykernel_launcher.py:7: DeprecationWarning:\n",
      "\n",
      "Function display is deprecated and will be removed in verison 1.0.0 (current version 0.19.1). Please see `scrapbook.glue` (nteract-scrapbook) as a replacement for this functionality.\n",
      "\n"
     ]
    },
    {
     "data": {
      "image/png": "[encoded data removed]",
      "text/plain": [
       "<Figure size 576x432 with 1 Axes>"
      ]
     },
     "metadata": {
      "papermill": {
       "name": "matplotlib_hist"
      }
     },
     "output_type": "display_data"
    },
    {
     "data": {
      "image/png": "[encoded data removed]",
      "text/plain": [
       "<Figure size 576x432 with 1 Axes>"
      ]
     },
     "metadata": {
      "needs_background": "light"
     },
     "output_type": "display_data"
    }
   ],
   "source": [
    "p = plt.figure(figsize=(8,6))  \n",
    "plt.xlabel('vote count')\n",
    "plt.ylabel('number of movies')\n",
    "plt.title('Histogram for movies with vote counts')\n",
    "plt.rcParams['patch.force_edgecolor'] = True  \n",
    "ratings_with_mean_count['vote_count'].hist(bins=50)  \n",
    "pm.display('matplotlib_hist', p)"
   ]
  },
  {
   "cell_type": "markdown",
   "metadata": {},
   "source": [
    "In the graph below we see that integer values tend to have taller bars as users are more likely to vote on whole numbers as opposed to decimal places. Interesting to note that the majority of vote averages lie between 3 and 4."
   ]
  },
  {
   "cell_type": "code",
   "execution_count": 128,
   "metadata": {},
   "outputs": [
    {
     "data": {
      "text/plain": [
       "<matplotlib.axes._subplots.AxesSubplot at 0x26f067a9da0>"
      ]
     },
     "execution_count": 128,
     "metadata": {},
     "output_type": "execute_result"
    },
    {
     "data": {
      "image/png": "[encoded data removed]",
      "text/plain": [
       "<Figure size 576x432 with 1 Axes>"
      ]
     },
     "metadata": {
      "needs_background": "light"
     },
     "output_type": "display_data"
    }
   ],
   "source": [
    "plt.figure(figsize=(8,6))  \n",
    "plt.rcParams['patch.force_edgecolor'] = True \n",
    "plt.title('Histogram for average ratings')\n",
    "plt.ylabel('number of movies')\n",
    "plt.xlabel('rating')\n",
    "ratings_with_mean_count['rating'].hist(bins=50)    "
   ]
  },
  {
   "cell_type": "markdown",
   "metadata": {},
   "source": [
    "The graph below shows that movies with higher ratings generally have a higher vote count than those that have a lower rating tend to have a lower vote count"
   ]
  },
  {
   "cell_type": "code",
   "execution_count": 137,
   "metadata": {
    "scrolled": false
   },
   "outputs": [
    {
     "name": "stderr",
     "output_type": "stream",
     "text": [
      "C:\\ProgramData\\Anaconda3\\lib\\site-packages\\scipy\\stats\\stats.py:1713: FutureWarning:\n",
      "\n",
      "Using a non-tuple sequence for multidimensional indexing is deprecated; use `arr[tuple(seq)]` instead of `arr[seq]`. In the future this will be interpreted as an array index, `arr[np.array(seq)]`, which will result either in an error or a different result.\n",
      "\n"
     ]
    },
    {
     "data": {
      "text/plain": [
       "<seaborn.axisgrid.JointGrid at 0x26f47817f60>"
      ]
     },
     "execution_count": 137,
     "metadata": {},
     "output_type": "execute_result"
    },
    {
     "data": {
      "text/plain": [
       "<Figure size 576x432 with 0 Axes>"
      ]
     },
     "metadata": {},
     "output_type": "display_data"
    },
    {
     "data": {
      "image/png": "[encoded data removed]",
      "text/plain": [
       "<Figure size 432x432 with 3 Axes>"
      ]
     },
     "metadata": {
      "needs_background": "light"
     },
     "output_type": "display_data"
    }
   ],
   "source": [
    "plt.figure(figsize=(8,6))  \n",
    "plt.rcParams['patch.force_edgecolor'] = True  \n",
    "sns.jointplot(x='rating', y='vote_count', data=ratings_with_mean_count, alpha=0.3)  "
   ]
  },
  {
   "cell_type": "markdown",
   "metadata": {},
   "source": [
    "### Finding similarities in movies\n",
    "To find similarities I'll use the correlation between the ratings of a movies as the similarity metric. To find the correlation I will create a matrix where each column is a movie name and each row is a user. The columns that have values in it will be the ones that the users will have rated. Most columns will have NaN values as every movie is not rated by every user."
   ]
  },
  {
   "cell_type": "code",
   "execution_count": 130,
   "metadata": {},
   "outputs": [],
   "source": [
    "user_movie_rating = movie_name_and_rating.pivot_table(index='userId', columns='title', values='rating')  "
   ]
  },
  {
   "cell_type": "code",
   "execution_count": 73,
   "metadata": {
    "scrolled": true
   },
   "outputs": [
    {
     "data": {
      "text/html": [
       "<div>\n",
       "<style scoped>\n",
       "    .dataframe tbody tr th:only-of-type {\n",
       "        vertical-align: middle;\n",
       "    }\n",
       "\n",
       "    .dataframe tbody tr th {\n",
       "        vertical-align: top;\n",
       "    }\n",
       "\n",
       "    .dataframe thead th {\n",
       "        text-align: right;\n",
       "    }\n",
       "</style>\n",
       "<table border=\"1\" class=\"dataframe\">\n",
       "  <thead>\n",
       "    <tr style=\"text-align: right;\">\n",
       "      <th>title</th>\n",
       "      <th>10 Things I Hate About You</th>\n",
       "      <th>10,000 BC</th>\n",
       "      <th>12 Angry Men</th>\n",
       "      <th>127 Hours</th>\n",
       "      <th>1408</th>\n",
       "      <th>16 Blocks</th>\n",
       "      <th>2 Fast 2 Furious</th>\n",
       "      <th>2001: A Space Odyssey</th>\n",
       "      <th>21 Grams</th>\n",
       "      <th>25th Hour</th>\n",
       "      <th>...</th>\n",
       "      <th>Willy Wonka &amp; the Chocolate Factory</th>\n",
       "      <th>X-Men Origins: Wolverine</th>\n",
       "      <th>X-Men: Days of Future Past</th>\n",
       "      <th>You Only Live Twice</th>\n",
       "      <th>Young Frankenstein</th>\n",
       "      <th>Zathura: A Space Adventure</th>\n",
       "      <th>Zodiac</th>\n",
       "      <th>[REC]</th>\n",
       "      <th>xXx</th>\n",
       "      <th>Æon Flux</th>\n",
       "    </tr>\n",
       "    <tr>\n",
       "      <th>userId</th>\n",
       "      <th></th>\n",
       "      <th></th>\n",
       "      <th></th>\n",
       "      <th></th>\n",
       "      <th></th>\n",
       "      <th></th>\n",
       "      <th></th>\n",
       "      <th></th>\n",
       "      <th></th>\n",
       "      <th></th>\n",
       "      <th></th>\n",
       "      <th></th>\n",
       "      <th></th>\n",
       "      <th></th>\n",
       "      <th></th>\n",
       "      <th></th>\n",
       "      <th></th>\n",
       "      <th></th>\n",
       "      <th></th>\n",
       "      <th></th>\n",
       "      <th></th>\n",
       "    </tr>\n",
       "  </thead>\n",
       "  <tbody>\n",
       "    <tr>\n",
       "      <th>1</th>\n",
       "      <td>NaN</td>\n",
       "      <td>NaN</td>\n",
       "      <td>NaN</td>\n",
       "      <td>NaN</td>\n",
       "      <td>NaN</td>\n",
       "      <td>NaN</td>\n",
       "      <td>NaN</td>\n",
       "      <td>NaN</td>\n",
       "      <td>NaN</td>\n",
       "      <td>NaN</td>\n",
       "      <td>...</td>\n",
       "      <td>NaN</td>\n",
       "      <td>NaN</td>\n",
       "      <td>NaN</td>\n",
       "      <td>NaN</td>\n",
       "      <td>NaN</td>\n",
       "      <td>NaN</td>\n",
       "      <td>NaN</td>\n",
       "      <td>NaN</td>\n",
       "      <td>NaN</td>\n",
       "      <td>NaN</td>\n",
       "    </tr>\n",
       "  </tbody>\n",
       "</table>\n",
       "<p>1 rows × 828 columns</p>\n",
       "</div>"
      ],
      "text/plain": [
       "title   10 Things I Hate About You  10,000 BC  12 Angry Men  127 Hours  1408  \\\n",
       "userId                                                                         \n",
       "1                              NaN        NaN           NaN        NaN   NaN   \n",
       "\n",
       "title   16 Blocks  2 Fast 2 Furious  2001: A Space Odyssey  21 Grams  \\\n",
       "userId                                                                 \n",
       "1             NaN               NaN                    NaN       NaN   \n",
       "\n",
       "title   25th Hour    ...     Willy Wonka & the Chocolate Factory  \\\n",
       "userId               ...                                           \n",
       "1             NaN    ...                                     NaN   \n",
       "\n",
       "title   X-Men Origins: Wolverine  X-Men: Days of Future Past  \\\n",
       "userId                                                         \n",
       "1                            NaN                         NaN   \n",
       "\n",
       "title   You Only Live Twice  Young Frankenstein  Zathura: A Space Adventure  \\\n",
       "userId                                                                        \n",
       "1                       NaN                 NaN                         NaN   \n",
       "\n",
       "title   Zodiac  [REC]  xXx  Æon Flux  \n",
       "userId                                \n",
       "1          NaN    NaN  NaN       NaN  \n",
       "\n",
       "[1 rows x 828 columns]"
      ]
     },
     "execution_count": 73,
     "metadata": {},
     "output_type": "execute_result"
    }
   ],
   "source": [
    "#example of the matrix\n",
    "user_movie_rating.head(1)"
   ]
  },
  {
   "cell_type": "markdown",
   "metadata": {},
   "source": [
    "### I'm going to focus on 'The Shawshank Redemption'\n",
    "I will find all the movies that users who rated 'The Shawshank Redemption' would also like based on their ratings."
   ]
  },
  {
   "cell_type": "code",
   "execution_count": 74,
   "metadata": {},
   "outputs": [],
   "source": [
    "#finds all the shawshank redemption ratings\n",
    "the_shawshank_redemption_ratings = user_movie_rating['The Shawshank Redemption']"
   ]
  },
  {
   "cell_type": "code",
   "execution_count": 75,
   "metadata": {},
   "outputs": [
    {
     "name": "stderr",
     "output_type": "stream",
     "text": [
      "C:\\ProgramData\\Anaconda3\\lib\\site-packages\\numpy\\lib\\function_base.py:2392: RuntimeWarning: Degrees of freedom <= 0 for slice\n",
      "  c = cov(x, y, rowvar)\n",
      "C:\\ProgramData\\Anaconda3\\lib\\site-packages\\numpy\\lib\\function_base.py:2326: RuntimeWarning: divide by zero encountered in true_divide\n",
      "  c *= np.true_divide(1, fact)\n"
     ]
    },
    {
     "data": {
      "text/html": [
       "<div>\n",
       "<style scoped>\n",
       "    .dataframe tbody tr th:only-of-type {\n",
       "        vertical-align: middle;\n",
       "    }\n",
       "\n",
       "    .dataframe tbody tr th {\n",
       "        vertical-align: top;\n",
       "    }\n",
       "\n",
       "    .dataframe thead th {\n",
       "        text-align: right;\n",
       "    }\n",
       "</style>\n",
       "<table border=\"1\" class=\"dataframe\">\n",
       "  <thead>\n",
       "    <tr style=\"text-align: right;\">\n",
       "      <th></th>\n",
       "      <th>correlation</th>\n",
       "    </tr>\n",
       "    <tr>\n",
       "      <th>title</th>\n",
       "      <th></th>\n",
       "    </tr>\n",
       "  </thead>\n",
       "  <tbody>\n",
       "    <tr>\n",
       "      <th>10 Things I Hate About You</th>\n",
       "      <td>-0.146655</td>\n",
       "    </tr>\n",
       "    <tr>\n",
       "      <th>10,000 BC</th>\n",
       "      <td>0.297715</td>\n",
       "    </tr>\n",
       "  </tbody>\n",
       "</table>\n",
       "</div>"
      ],
      "text/plain": [
       "                            correlation\n",
       "title                                  \n",
       "10 Things I Hate About You    -0.146655\n",
       "10,000 BC                      0.297715"
      ]
     },
     "execution_count": 75,
     "metadata": {},
     "output_type": "execute_result"
    }
   ],
   "source": [
    "#finding the correlation between user ratings for 'The Shawshank Redemption' and all the other movies\n",
    "movies_like_shawshank = user_movie_rating.corrwith(the_shawshank_redemption_ratings)\n",
    "corr_shawshank = pd.DataFrame(movies_like_shawshank, columns=['correlation'])\n",
    "corr_shawshank.dropna(inplace=True)\n",
    "corr_shawshank.head(2)"
   ]
  },
  {
   "cell_type": "code",
   "execution_count": 76,
   "metadata": {},
   "outputs": [
    {
     "data": {
      "text/html": [
       "<div>\n",
       "<style scoped>\n",
       "    .dataframe tbody tr th:only-of-type {\n",
       "        vertical-align: middle;\n",
       "    }\n",
       "\n",
       "    .dataframe tbody tr th {\n",
       "        vertical-align: top;\n",
       "    }\n",
       "\n",
       "    .dataframe thead th {\n",
       "        text-align: right;\n",
       "    }\n",
       "</style>\n",
       "<table border=\"1\" class=\"dataframe\">\n",
       "  <thead>\n",
       "    <tr style=\"text-align: right;\">\n",
       "      <th></th>\n",
       "      <th>correlation</th>\n",
       "    </tr>\n",
       "    <tr>\n",
       "      <th>title</th>\n",
       "      <th></th>\n",
       "    </tr>\n",
       "  </thead>\n",
       "  <tbody>\n",
       "    <tr>\n",
       "      <th>AVP: Alien vs. Predator</th>\n",
       "      <td>1.0</td>\n",
       "    </tr>\n",
       "    <tr>\n",
       "      <th>Carnage</th>\n",
       "      <td>1.0</td>\n",
       "    </tr>\n",
       "    <tr>\n",
       "      <th>The Shawshank Redemption</th>\n",
       "      <td>1.0</td>\n",
       "    </tr>\n",
       "    <tr>\n",
       "      <th>Apocalypto</th>\n",
       "      <td>1.0</td>\n",
       "    </tr>\n",
       "    <tr>\n",
       "      <th>Æon Flux</th>\n",
       "      <td>1.0</td>\n",
       "    </tr>\n",
       "    <tr>\n",
       "      <th>Gangs of New York</th>\n",
       "      <td>1.0</td>\n",
       "    </tr>\n",
       "    <tr>\n",
       "      <th>Bambi</th>\n",
       "      <td>1.0</td>\n",
       "    </tr>\n",
       "    <tr>\n",
       "      <th>Snow White and the Huntsman</th>\n",
       "      <td>1.0</td>\n",
       "    </tr>\n",
       "    <tr>\n",
       "      <th>Australia</th>\n",
       "      <td>1.0</td>\n",
       "    </tr>\n",
       "    <tr>\n",
       "      <th>Jumanji</th>\n",
       "      <td>1.0</td>\n",
       "    </tr>\n",
       "  </tbody>\n",
       "</table>\n",
       "</div>"
      ],
      "text/plain": [
       "                             correlation\n",
       "title                                   \n",
       "AVP: Alien vs. Predator              1.0\n",
       "Carnage                              1.0\n",
       "The Shawshank Redemption             1.0\n",
       "Apocalypto                           1.0\n",
       "Æon Flux                             1.0\n",
       "Gangs of New York                    1.0\n",
       "Bambi                                1.0\n",
       "Snow White and the Huntsman          1.0\n",
       "Australia                            1.0\n",
       "Jumanji                              1.0"
      ]
     },
     "execution_count": 76,
     "metadata": {},
     "output_type": "execute_result"
    }
   ],
   "source": [
    "#sorting to have all the high correlations at the top\n",
    "corr_shawshank.sort_values('correlation', ascending=False).head(10) "
   ]
  },
  {
   "cell_type": "code",
   "execution_count": 48,
   "metadata": {},
   "outputs": [
    {
     "data": {
      "text/html": [
       "<div>\n",
       "<style scoped>\n",
       "    .dataframe tbody tr th:only-of-type {\n",
       "        vertical-align: middle;\n",
       "    }\n",
       "\n",
       "    .dataframe tbody tr th {\n",
       "        vertical-align: top;\n",
       "    }\n",
       "\n",
       "    .dataframe thead th {\n",
       "        text-align: right;\n",
       "    }\n",
       "</style>\n",
       "<table border=\"1\" class=\"dataframe\">\n",
       "  <thead>\n",
       "    <tr style=\"text-align: right;\">\n",
       "      <th></th>\n",
       "      <th>correlation</th>\n",
       "      <th>vote_count</th>\n",
       "    </tr>\n",
       "    <tr>\n",
       "      <th>title</th>\n",
       "      <th></th>\n",
       "      <th></th>\n",
       "    </tr>\n",
       "  </thead>\n",
       "  <tbody>\n",
       "    <tr>\n",
       "      <th>10 Things I Hate About You</th>\n",
       "      <td>-0.146655</td>\n",
       "      <td>4254.0</td>\n",
       "    </tr>\n",
       "    <tr>\n",
       "      <th>10,000 BC</th>\n",
       "      <td>0.297715</td>\n",
       "      <td>1772.0</td>\n",
       "    </tr>\n",
       "    <tr>\n",
       "      <th>12 Angry Men</th>\n",
       "      <td>0.411891</td>\n",
       "      <td>NaN</td>\n",
       "    </tr>\n",
       "    <tr>\n",
       "      <th>1408</th>\n",
       "      <td>0.465316</td>\n",
       "      <td>538.0</td>\n",
       "    </tr>\n",
       "  </tbody>\n",
       "</table>\n",
       "</div>"
      ],
      "text/plain": [
       "                            correlation  vote_count\n",
       "title                                              \n",
       "10 Things I Hate About You    -0.146655      4254.0\n",
       "10,000 BC                      0.297715      1772.0\n",
       "12 Angry Men                   0.411891         NaN\n",
       "1408                           0.465316       538.0"
      ]
     },
     "execution_count": 48,
     "metadata": {},
     "output_type": "execute_result"
    }
   ],
   "source": [
    "#adding the vote count to each movie\n",
    "corr_shawshank = corr_shawshank.join(ratings_with_mean_count['vote_count'])  \n",
    "corr_shawshank.head(4)"
   ]
  },
  {
   "cell_type": "code",
   "execution_count": 49,
   "metadata": {},
   "outputs": [
    {
     "data": {
      "text/html": [
       "<div>\n",
       "<style scoped>\n",
       "    .dataframe tbody tr th:only-of-type {\n",
       "        vertical-align: middle;\n",
       "    }\n",
       "\n",
       "    .dataframe tbody tr th {\n",
       "        vertical-align: top;\n",
       "    }\n",
       "\n",
       "    .dataframe thead th {\n",
       "        text-align: right;\n",
       "    }\n",
       "</style>\n",
       "<table border=\"1\" class=\"dataframe\">\n",
       "  <thead>\n",
       "    <tr style=\"text-align: right;\">\n",
       "      <th></th>\n",
       "      <th>correlation</th>\n",
       "      <th>vote_count</th>\n",
       "    </tr>\n",
       "    <tr>\n",
       "      <th>title</th>\n",
       "      <th></th>\n",
       "      <th></th>\n",
       "    </tr>\n",
       "  </thead>\n",
       "  <tbody>\n",
       "    <tr>\n",
       "      <th>The Shawshank Redemption</th>\n",
       "      <td>1.000000</td>\n",
       "      <td>2356.0</td>\n",
       "    </tr>\n",
       "    <tr>\n",
       "      <th>Repo Men</th>\n",
       "      <td>0.813218</td>\n",
       "      <td>1048.0</td>\n",
       "    </tr>\n",
       "    <tr>\n",
       "      <th>Captain America: The First Avenger</th>\n",
       "      <td>0.622622</td>\n",
       "      <td>1170.0</td>\n",
       "    </tr>\n",
       "    <tr>\n",
       "      <th>Kill Bill: Vol. 2</th>\n",
       "      <td>0.621948</td>\n",
       "      <td>7407.0</td>\n",
       "    </tr>\n",
       "    <tr>\n",
       "      <th>Shrek</th>\n",
       "      <td>0.613543</td>\n",
       "      <td>4335.0</td>\n",
       "    </tr>\n",
       "  </tbody>\n",
       "</table>\n",
       "</div>"
      ],
      "text/plain": [
       "                                    correlation  vote_count\n",
       "title                                                      \n",
       "The Shawshank Redemption               1.000000      2356.0\n",
       "Repo Men                               0.813218      1048.0\n",
       "Captain America: The First Avenger     0.622622      1170.0\n",
       "Kill Bill: Vol. 2                      0.621948      7407.0\n",
       "Shrek                                  0.613543      4335.0"
      ]
     },
     "execution_count": 49,
     "metadata": {},
     "output_type": "execute_result"
    }
   ],
   "source": [
    "#looking at movies with a vote count greater than 10000\n",
    "corr_shawshank[corr_shawshank['vote_count']>1000].sort_values('correlation', ascending=False).head(5)"
   ]
  },
  {
   "cell_type": "code",
   "execution_count": 51,
   "metadata": {},
   "outputs": [],
   "source": [
    "user_movies_watched_ratings = user_movie_rating['Forrest Gump']"
   ]
  },
  {
   "cell_type": "code",
   "execution_count": 52,
   "metadata": {},
   "outputs": [
    {
     "name": "stderr",
     "output_type": "stream",
     "text": [
      "C:\\ProgramData\\Anaconda3\\lib\\site-packages\\numpy\\lib\\function_base.py:2392: RuntimeWarning: Degrees of freedom <= 0 for slice\n",
      "  c = cov(x, y, rowvar)\n",
      "C:\\ProgramData\\Anaconda3\\lib\\site-packages\\numpy\\lib\\function_base.py:2326: RuntimeWarning: divide by zero encountered in true_divide\n",
      "  c *= np.true_divide(1, fact)\n"
     ]
    },
    {
     "data": {
      "text/html": [
       "<div>\n",
       "<style scoped>\n",
       "    .dataframe tbody tr th:only-of-type {\n",
       "        vertical-align: middle;\n",
       "    }\n",
       "\n",
       "    .dataframe tbody tr th {\n",
       "        vertical-align: top;\n",
       "    }\n",
       "\n",
       "    .dataframe thead th {\n",
       "        text-align: right;\n",
       "    }\n",
       "</style>\n",
       "<table border=\"1\" class=\"dataframe\">\n",
       "  <thead>\n",
       "    <tr style=\"text-align: right;\">\n",
       "      <th></th>\n",
       "      <th>correlation</th>\n",
       "    </tr>\n",
       "    <tr>\n",
       "      <th>title</th>\n",
       "      <th></th>\n",
       "    </tr>\n",
       "  </thead>\n",
       "  <tbody>\n",
       "    <tr>\n",
       "      <th>10 Things I Hate About You</th>\n",
       "      <td>0.413134</td>\n",
       "    </tr>\n",
       "    <tr>\n",
       "      <th>10,000 BC</th>\n",
       "      <td>0.403046</td>\n",
       "    </tr>\n",
       "    <tr>\n",
       "      <th>12 Angry Men</th>\n",
       "      <td>0.420380</td>\n",
       "    </tr>\n",
       "    <tr>\n",
       "      <th>127 Hours</th>\n",
       "      <td>-0.644902</td>\n",
       "    </tr>\n",
       "    <tr>\n",
       "      <th>1408</th>\n",
       "      <td>0.379371</td>\n",
       "    </tr>\n",
       "    <tr>\n",
       "      <th>16 Blocks</th>\n",
       "      <td>0.567571</td>\n",
       "    </tr>\n",
       "    <tr>\n",
       "      <th>2 Fast 2 Furious</th>\n",
       "      <td>-0.240192</td>\n",
       "    </tr>\n",
       "    <tr>\n",
       "      <th>2001: A Space Odyssey</th>\n",
       "      <td>0.350690</td>\n",
       "    </tr>\n",
       "    <tr>\n",
       "      <th>21 Grams</th>\n",
       "      <td>0.544479</td>\n",
       "    </tr>\n",
       "    <tr>\n",
       "      <th>25th Hour</th>\n",
       "      <td>0.251850</td>\n",
       "    </tr>\n",
       "  </tbody>\n",
       "</table>\n",
       "</div>"
      ],
      "text/plain": [
       "                            correlation\n",
       "title                                  \n",
       "10 Things I Hate About You     0.413134\n",
       "10,000 BC                      0.403046\n",
       "12 Angry Men                   0.420380\n",
       "127 Hours                     -0.644902\n",
       "1408                           0.379371\n",
       "16 Blocks                      0.567571\n",
       "2 Fast 2 Furious              -0.240192\n",
       "2001: A Space Odyssey          0.350690\n",
       "21 Grams                       0.544479\n",
       "25th Hour                      0.251850"
      ]
     },
     "execution_count": 52,
     "metadata": {},
     "output_type": "execute_result"
    }
   ],
   "source": [
    "movies_like_movies_user_watched = user_movie_rating.corrwith(user_movies_watched_ratings)\n",
    "corr_movies_user_watched = pd.DataFrame(movies_like_movies_user_watched, columns=['correlation'])\n",
    "corr_movies_user_watched.dropna(inplace=True)\n",
    "corr_movies_user_watched.head(10)"
   ]
  },
  {
   "cell_type": "code",
   "execution_count": 53,
   "metadata": {},
   "outputs": [
    {
     "data": {
      "text/html": [
       "<div>\n",
       "<style scoped>\n",
       "    .dataframe tbody tr th:only-of-type {\n",
       "        vertical-align: middle;\n",
       "    }\n",
       "\n",
       "    .dataframe tbody tr th {\n",
       "        vertical-align: top;\n",
       "    }\n",
       "\n",
       "    .dataframe thead th {\n",
       "        text-align: right;\n",
       "    }\n",
       "</style>\n",
       "<table border=\"1\" class=\"dataframe\">\n",
       "  <thead>\n",
       "    <tr style=\"text-align: right;\">\n",
       "      <th></th>\n",
       "      <th>correlation</th>\n",
       "    </tr>\n",
       "    <tr>\n",
       "      <th>title</th>\n",
       "      <th></th>\n",
       "    </tr>\n",
       "  </thead>\n",
       "  <tbody>\n",
       "    <tr>\n",
       "      <th>The Wolf of Wall Street</th>\n",
       "      <td>1.0</td>\n",
       "    </tr>\n",
       "  </tbody>\n",
       "</table>\n",
       "</div>"
      ],
      "text/plain": [
       "                         correlation\n",
       "title                               \n",
       "The Wolf of Wall Street          1.0"
      ]
     },
     "execution_count": 53,
     "metadata": {},
     "output_type": "execute_result"
    }
   ],
   "source": [
    "corr_movies_user_watched.sort_values('correlation', ascending=False).head(1)"
   ]
  },
  {
   "cell_type": "code",
   "execution_count": 54,
   "metadata": {},
   "outputs": [
    {
     "data": {
      "text/html": [
       "<div>\n",
       "<style scoped>\n",
       "    .dataframe tbody tr th:only-of-type {\n",
       "        vertical-align: middle;\n",
       "    }\n",
       "\n",
       "    .dataframe tbody tr th {\n",
       "        vertical-align: top;\n",
       "    }\n",
       "\n",
       "    .dataframe thead th {\n",
       "        text-align: right;\n",
       "    }\n",
       "</style>\n",
       "<table border=\"1\" class=\"dataframe\">\n",
       "  <thead>\n",
       "    <tr style=\"text-align: right;\">\n",
       "      <th></th>\n",
       "      <th>correlation</th>\n",
       "      <th>vote_count</th>\n",
       "    </tr>\n",
       "    <tr>\n",
       "      <th>title</th>\n",
       "      <th></th>\n",
       "      <th></th>\n",
       "    </tr>\n",
       "  </thead>\n",
       "  <tbody>\n",
       "    <tr>\n",
       "      <th>10 Things I Hate About You</th>\n",
       "      <td>0.413134</td>\n",
       "      <td>4254.0</td>\n",
       "    </tr>\n",
       "  </tbody>\n",
       "</table>\n",
       "</div>"
      ],
      "text/plain": [
       "                            correlation  vote_count\n",
       "title                                              \n",
       "10 Things I Hate About You     0.413134      4254.0"
      ]
     },
     "execution_count": 54,
     "metadata": {},
     "output_type": "execute_result"
    }
   ],
   "source": [
    "corr_movies_user_watched = corr_movies_user_watched.join(ratings_with_mean_count['vote_count'])  \n",
    "corr_movies_user_watched.head(1)"
   ]
  },
  {
   "cell_type": "code",
   "execution_count": 55,
   "metadata": {},
   "outputs": [
    {
     "data": {
      "text/html": [
       "<div>\n",
       "<style scoped>\n",
       "    .dataframe tbody tr th:only-of-type {\n",
       "        vertical-align: middle;\n",
       "    }\n",
       "\n",
       "    .dataframe tbody tr th {\n",
       "        vertical-align: top;\n",
       "    }\n",
       "\n",
       "    .dataframe thead th {\n",
       "        text-align: right;\n",
       "    }\n",
       "</style>\n",
       "<table border=\"1\" class=\"dataframe\">\n",
       "  <thead>\n",
       "    <tr style=\"text-align: right;\">\n",
       "      <th></th>\n",
       "      <th>correlation</th>\n",
       "      <th>vote_count</th>\n",
       "    </tr>\n",
       "    <tr>\n",
       "      <th>title</th>\n",
       "      <th></th>\n",
       "      <th></th>\n",
       "    </tr>\n",
       "  </thead>\n",
       "  <tbody>\n",
       "    <tr>\n",
       "      <th>Forrest Gump</th>\n",
       "      <td>1.000000</td>\n",
       "      <td>5514.0</td>\n",
       "    </tr>\n",
       "    <tr>\n",
       "      <th>Taxi</th>\n",
       "      <td>0.873543</td>\n",
       "      <td>2577.0</td>\n",
       "    </tr>\n",
       "    <tr>\n",
       "      <th>The Blues Brothers</th>\n",
       "      <td>0.764744</td>\n",
       "      <td>724.0</td>\n",
       "    </tr>\n",
       "    <tr>\n",
       "      <th>Pirates of the Caribbean: On Stranger Tides</th>\n",
       "      <td>0.758927</td>\n",
       "      <td>1278.0</td>\n",
       "    </tr>\n",
       "    <tr>\n",
       "      <th>The Princess Bride</th>\n",
       "      <td>0.757995</td>\n",
       "      <td>1385.0</td>\n",
       "    </tr>\n",
       "    <tr>\n",
       "      <th>Poseidon</th>\n",
       "      <td>0.746901</td>\n",
       "      <td>576.0</td>\n",
       "    </tr>\n",
       "    <tr>\n",
       "      <th>Spaceballs</th>\n",
       "      <td>0.744303</td>\n",
       "      <td>514.0</td>\n",
       "    </tr>\n",
       "    <tr>\n",
       "      <th>The Others</th>\n",
       "      <td>0.732618</td>\n",
       "      <td>892.0</td>\n",
       "    </tr>\n",
       "    <tr>\n",
       "      <th>Bruce Almighty</th>\n",
       "      <td>0.721772</td>\n",
       "      <td>530.0</td>\n",
       "    </tr>\n",
       "    <tr>\n",
       "      <th>Premium Rush</th>\n",
       "      <td>0.720853</td>\n",
       "      <td>789.0</td>\n",
       "    </tr>\n",
       "  </tbody>\n",
       "</table>\n",
       "</div>"
      ],
      "text/plain": [
       "                                             correlation  vote_count\n",
       "title                                                               \n",
       "Forrest Gump                                    1.000000      5514.0\n",
       "Taxi                                            0.873543      2577.0\n",
       "The Blues Brothers                              0.764744       724.0\n",
       "Pirates of the Caribbean: On Stranger Tides     0.758927      1278.0\n",
       "The Princess Bride                              0.757995      1385.0\n",
       "Poseidon                                        0.746901       576.0\n",
       "Spaceballs                                      0.744303       514.0\n",
       "The Others                                      0.732618       892.0\n",
       "Bruce Almighty                                  0.721772       530.0\n",
       "Premium Rush                                    0.720853       789.0"
      ]
     },
     "execution_count": 55,
     "metadata": {},
     "output_type": "execute_result"
    }
   ],
   "source": [
    "corr_movies_user_watched[corr_movies_user_watched['vote_count']>200].sort_values('correlation', ascending=False).head(10)"
   ]
  }
 ],
 "metadata": {
  "kernelspec": {
   "display_name": "Python 3",
   "language": "python",
   "name": "python3"
  },
  "language_info": {
   "codemirror_mode": {
    "name": "ipython",
    "version": 3
   },
   "file_extension": ".py",
   "mimetype": "text/x-python",
   "name": "python",
   "nbconvert_exporter": "python",
   "pygments_lexer": "ipython3",
   "version": "3.8.8"
  }
 },
 "nbformat": 4,
 "nbformat_minor": 2
}
